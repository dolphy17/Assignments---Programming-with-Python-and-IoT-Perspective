{
  "nbformat": 4,
  "nbformat_minor": 0,
  "metadata": {
    "colab": {
      "name": "Programming with Python and IoT Perspective-Assignment-2.ipynb",
      "provenance": [],
      "collapsed_sections": [],
      "authorship_tag": "ABX9TyOK4Z8kanqI+T03a7BwtshG",
      "include_colab_link": true
    },
    "kernelspec": {
      "name": "python3",
      "display_name": "Python 3"
    },
    "language_info": {
      "name": "python"
    }
  },
  "cells": [
    {
      "cell_type": "markdown",
      "metadata": {
        "id": "view-in-github",
        "colab_type": "text"
      },
      "source": [
        "<a href=\"https://colab.research.google.com/github/dolphy17/Assignments---Programming-with-Python-and-IoT-Perspective/blob/main/Programming_with_Python_and_IoT_Perspective_Assignment_2.ipynb\" target=\"_parent\"><img src=\"https://colab.research.google.com/assets/colab-badge.svg\" alt=\"Open In Colab\"/></a>"
      ]
    },
    {
      "cell_type": "markdown",
      "metadata": {
        "id": "k2rCLHEUucY7"
      },
      "source": [
        "1.\tWrite a function ‘calculator’ that takes two variables as arguments and then ask the user to choose from the four options subtraction, addition, multiplication and division and give the output\n",
        "Sample Output\n",
        "Enter the 2 numbers\n",
        "10\n",
        "20\n",
        "Choose the option\n",
        "1 – Addition\n",
        "2 – Subtraction\n",
        "3 – Multiplication\n",
        "4 – Division\n",
        "1\n",
        "The addition of 10 and 20 is 30\n"
      ]
    },
    {
      "cell_type": "code",
      "metadata": {
        "colab": {
          "base_uri": "https://localhost:8080/"
        },
        "id": "vM9Nt2sAud-j",
        "outputId": "907f305c-2a91-41ed-94e6-7b1162e8d5d2"
      },
      "source": [
        "def calculator(a, b):\n",
        "  ch=int(input())\n",
        "  if ch==1:\n",
        "    res=a+b\n",
        "    print(\"The addition of {} and {} is {}\".format(a,b,res))\n",
        "  elif ch==2:\n",
        "    res=a-b\n",
        "    print(\"The Subtraction of {} and {} is {}\".format(a,b,res))\n",
        "  elif ch==3:\n",
        "    res=a*b\n",
        "    print(\"The Multiplication of {} and {} is {}\".format(a,b,res))\n",
        "  elif ch==4:\n",
        "    res=a/b\n",
        "    print(\"The Division of {} and {} is {}\".format(a,b,res))\n",
        "\n",
        "\n",
        "print(\"Enter the 2 numbers\")\n",
        "a=int(input())\n",
        "b=int(input())\n",
        "print(\"Choose the option\")\n",
        "print(\"1 - Addition\")\n",
        "print(\"2 – Subtraction\")\n",
        "print(\"3 – Multiplication\")\n",
        "print(\"4 – Division\")\n",
        "calculator(a, b)"
      ],
      "execution_count": 33,
      "outputs": [
        {
          "output_type": "stream",
          "text": [
            "Enter the 2 numbers\n",
            "10\n",
            "20\n",
            "Choose the option\n",
            "1 - Addition\n",
            "2 – Subtraction\n",
            "3 – Multiplication\n",
            "4 – Division\n",
            "1\n",
            "The addition of 10 and 20 is 30\n"
          ],
          "name": "stdout"
        }
      ]
    },
    {
      "cell_type": "markdown",
      "metadata": {
        "id": "z-iEpTBrvAOW"
      },
      "source": [
        "2.\tWrite a function to find the factorial of a number taken from a user.\n",
        "Sample Output\n",
        "Enter number\n",
        "5\n",
        "The factorial of 5 is 120\n"
      ]
    },
    {
      "cell_type": "code",
      "metadata": {
        "colab": {
          "base_uri": "https://localhost:8080/"
        },
        "id": "7MDZf2ogvBJE",
        "outputId": "76b9a1d4-89ba-4abd-de4d-b34bf18ac557"
      },
      "source": [
        "def factorial(num):\n",
        "  if num==0:\n",
        "    return 1\n",
        "  return num*factorial(num-1)\n",
        "\n",
        "num=int(input(\"Enter number\\n\"))\n",
        "print(\"The factorial of {} is {}\".format(num,factorial(num)))"
      ],
      "execution_count": 1,
      "outputs": [
        {
          "output_type": "stream",
          "text": [
            "Enter number\n",
            "5\n",
            "The factorial of 5 is 120\n"
          ],
          "name": "stdout"
        }
      ]
    },
    {
      "cell_type": "markdown",
      "metadata": {
        "id": "NPzdkOc4wMbn"
      },
      "source": [
        "3.\tWrite a function to print all the odd numbers in between user defined range\n",
        "Sample Output\n",
        "Enter the starting and ending range\n",
        "2\n",
        "10\n",
        "The odd numbers are 3, 5, 7, 9\n"
      ]
    },
    {
      "cell_type": "code",
      "metadata": {
        "colab": {
          "base_uri": "https://localhost:8080/"
        },
        "id": "AquVun6ZwPCz",
        "outputId": "534f298e-68fc-4fde-9382-b7b29c75ff62"
      },
      "source": [
        "def print_odd(start, end):\n",
        "  for i in range(start, end + 1):\n",
        "    if i%2 != 0:\n",
        "      print(i, end=\",\")\n",
        "  \n",
        "print(\"Enter the starting and ending range\")\n",
        "start=int(input())\n",
        "end=int(input())\n",
        "print(\"The odd numbers are:\")\n",
        "print_odd(start, end)\n",
        "\n"
      ],
      "execution_count": 19,
      "outputs": [
        {
          "output_type": "stream",
          "text": [
            "Enter the starting and ending range\n",
            "2\n",
            "10\n",
            "The odd numbers are:\n",
            "3,5,7,9,"
          ],
          "name": "stdout"
        }
      ]
    },
    {
      "cell_type": "markdown",
      "metadata": {
        "id": "MAtNB6uyyxLZ"
      },
      "source": [
        "4.\tWrite a function to find the smallest number from a user defined list\n",
        "Sample Output\n",
        "How many numbers you want to enter\n",
        "5\n",
        "Enter the list of numbers\n",
        "10\n",
        "5\n",
        "20\n",
        "3\n",
        "30\n",
        "The smallest number is 3\n"
      ]
    },
    {
      "cell_type": "code",
      "metadata": {
        "colab": {
          "base_uri": "https://localhost:8080/"
        },
        "id": "oM7yifPky00v",
        "outputId": "f316078a-97f2-4031-f705-9a03eab9ed67"
      },
      "source": [
        "def smallest(l):\n",
        "  l.sort()\n",
        "  print(\"The smallest number is {}\".format(*l[:1]))\n",
        "\n",
        "\n",
        "l=[]\n",
        "n=int(input(\"How many numbers you want to enter\\n\"))\n",
        "\n",
        "print(\"Enter the list of numbers\")\n",
        "for i in range(0, n):\n",
        "    ele=int(input())\n",
        "    l.append(ele)\n",
        "smallest(l)\n"
      ],
      "execution_count": 22,
      "outputs": [
        {
          "output_type": "stream",
          "text": [
            "How many numbers you want to enter\n",
            "5\n",
            "Enter the list of numbers\n",
            "10\n",
            "5\n",
            "20\n",
            "3\n",
            "30\n",
            "The smallest number is 3\n"
          ],
          "name": "stdout"
        }
      ]
    },
    {
      "cell_type": "markdown",
      "metadata": {
        "id": "C1TsNu6G0Lvk"
      },
      "source": [
        "5.\tWrite a function to calculate area and perimeter of a rectangle using user defined length and breadth.\n",
        "Sample Output\n",
        "Enter the length of the rectangle\n",
        "5\n",
        "Enter the breadth of the rectangle\n",
        "10\n",
        "Area of rectangle is 50\n",
        "Perimeter of rectangle is 30\n"
      ]
    },
    {
      "cell_type": "code",
      "metadata": {
        "colab": {
          "base_uri": "https://localhost:8080/"
        },
        "id": "L6Kos0C-0Mkp",
        "outputId": "d71bfe8e-516e-4116-8d72-958575cc7572"
      },
      "source": [
        "def calculate(length, breadth):\n",
        "  area=length*breadth\n",
        "  perimeter=2*(length+breadth)\n",
        "  print(\"Area of rectangle is {}\".format(area))\n",
        "  print(\"Perimeter of rectangle is {}\".format(perimeter))\n",
        "\n",
        "length=int(input(\"Enter the length of the rectangle\\n\"))\n",
        "breadth=int(input(\"Enter the breadth of the rectangle\\n\"))\n",
        "calculate(length, breadth)\n"
      ],
      "execution_count": 23,
      "outputs": [
        {
          "output_type": "stream",
          "text": [
            "Enter the length of the rectangle\n",
            "5\n",
            "Enter the breadth of the rectangle\n",
            "10\n",
            "Area of rectangle is 50\n",
            "Perimeter of rectangle is 30\n"
          ],
          "name": "stdout"
        }
      ]
    },
    {
      "cell_type": "markdown",
      "metadata": {
        "id": "FjmGfI1906Bp"
      },
      "source": [
        "6.\tWrite a function to check if the user defined number is even or not\n",
        "Sample Output\n",
        "Enter the number you want to check\n",
        "3\n",
        "The number is not even\n"
      ]
    },
    {
      "cell_type": "code",
      "metadata": {
        "colab": {
          "base_uri": "https://localhost:8080/"
        },
        "id": "YnD-aqet06gn",
        "outputId": "5df03bba-8eb3-4bc2-ed0a-1b4862d740c0"
      },
      "source": [
        "def check(num):\n",
        "  if num%2 == 0:\n",
        "    print(\"The number is even\")\n",
        "  else:\n",
        "    print(\"The number is not even\")\n",
        "\n",
        "num=int(input(\"Enter the number you want to check\\n\"))\n",
        "check(num)"
      ],
      "execution_count": 24,
      "outputs": [
        {
          "output_type": "stream",
          "text": [
            "Enter the number you want to check\n",
            "3\n",
            "The number is not even\n"
          ],
          "name": "stdout"
        }
      ]
    }
  ]
}