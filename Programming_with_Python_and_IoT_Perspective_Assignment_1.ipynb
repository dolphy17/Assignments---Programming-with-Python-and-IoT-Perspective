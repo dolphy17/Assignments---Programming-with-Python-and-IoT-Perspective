{
  "nbformat": 4,
  "nbformat_minor": 0,
  "metadata": {
    "colab": {
      "name": "Programming with Python and IoT Perspective-Assignment-1.ipynb",
      "provenance": [],
      "collapsed_sections": [],
      "authorship_tag": "ABX9TyO+U9ueVtzTBGqqxaD3K+xC",
      "include_colab_link": true
    },
    "kernelspec": {
      "name": "python3",
      "display_name": "Python 3"
    },
    "language_info": {
      "name": "python"
    }
  },
  "cells": [
    {
      "cell_type": "markdown",
      "metadata": {
        "id": "view-in-github",
        "colab_type": "text"
      },
      "source": [
        "<a href=\"https://colab.research.google.com/github/dolphy17/Assignments---Programming-with-Python-and-IoT-Perspective/blob/main/Programming_with_Python_and_IoT_Perspective_Assignment_1.ipynb\" target=\"_parent\"><img src=\"https://colab.research.google.com/assets/colab-badge.svg\" alt=\"Open In Colab\"/></a>"
      ]
    },
    {
      "cell_type": "markdown",
      "metadata": {
        "id": "ansKWbkRhawr"
      },
      "source": [
        "1. Write a program to Print the datatypes of the following data objects as:\n",
        "a)\t5\n",
        "b) 2.0\n",
        "c)\t1+2j\n",
        "d)\t“Biochemistry”\n"
      ]
    },
    {
      "cell_type": "code",
      "metadata": {
        "colab": {
          "base_uri": "https://localhost:8080/"
        },
        "id": "5eNtvXAOhkVy",
        "outputId": "af884ff6-324f-4f20-ae23-a43e1f9c4edc"
      },
      "source": [
        "print(type(5))\n",
        "print(type(2.0))\n",
        "print(type(1+2j))\n",
        "print(type(\"Biochemistry\"))\n"
      ],
      "execution_count": null,
      "outputs": [
        {
          "output_type": "stream",
          "text": [
            "<class 'int'>\n",
            "<class 'float'>\n",
            "<class 'complex'>\n",
            "<class 'str'>\n"
          ],
          "name": "stdout"
        }
      ]
    },
    {
      "cell_type": "markdown",
      "metadata": {
        "id": "_lKTMTOih0SR"
      },
      "source": [
        "2.\tWrite a program to reverse a string using for loop. \n",
        "Example: S1 = \"Engineering College\"\n",
        "\n"
      ]
    },
    {
      "cell_type": "code",
      "metadata": {
        "colab": {
          "base_uri": "https://localhost:8080/"
        },
        "id": "7nJJ693lh7FZ",
        "outputId": "155c717e-a723-4328-f74f-15731e37f050"
      },
      "source": [
        "s1=\"Engineering College\"\n",
        "reverse_s1=\"\"\n",
        "for i in s1:\n",
        "  reverse_s1=i+reverse_s1\n",
        "print(reverse_s1)"
      ],
      "execution_count": null,
      "outputs": [
        {
          "output_type": "stream",
          "text": [
            "egelloC gnireenignE\n"
          ],
          "name": "stdout"
        }
      ]
    },
    {
      "cell_type": "markdown",
      "metadata": {
        "id": "w2XlYaXtkPtJ"
      },
      "source": [
        "3.\tWrite a program that reads a string and returns a table of the letters of the alphabet in alphabetical order which occur in the string together with the number of times each letter occurs. Case should be ignored. A sample output of the program when the user enters the data “ThiS is String with Upper and lower case Letters”, would look this this"
      ]
    },
    {
      "cell_type": "code",
      "metadata": {
        "colab": {
          "base_uri": "https://localhost:8080/"
        },
        "id": "W9Ib5eE_lgqe",
        "outputId": "09b2d57d-49f6-4517-c3c2-4f144fffeb18"
      },
      "source": [
        "data=str(input())\n",
        "data=data.lower()   \n",
        "seqeunce='abcdefghijklmnopqrstuvwxyz'\n",
        "\n",
        "count={} \n",
        "for c in data:\n",
        "  if c in seqeunce: \n",
        "    if c in count:\n",
        "      count[c]=count[c]+1\n",
        "    else:\n",
        "      count[c]=1\n",
        "\n",
        "keys=count.keys()\n",
        "for c in sorted(keys):\n",
        "    print(c, count[c])\n"
      ],
      "execution_count": null,
      "outputs": [
        {
          "output_type": "stream",
          "text": [
            "ThiS is String with Upper and lower case Letters\n",
            "a 2\n",
            "c 1\n",
            "d 1\n",
            "e 5\n",
            "g 1\n",
            "h 2\n",
            "i 4\n",
            "l 2\n",
            "n 2\n",
            "o 1\n",
            "p 2\n",
            "r 4\n",
            "s 5\n",
            "t 5\n",
            "u 1\n",
            "w 2\n"
          ],
          "name": "stdout"
        }
      ]
    },
    {
      "cell_type": "markdown",
      "metadata": {
        "id": "ykg90Vngm9jR"
      },
      "source": [
        "4.\tCreate a dictionary to keep track of your friend’s birthdays. Create a dictionary with names and birthdays of friend’s. If user enters the name of the friend then it should return the birthday of the person. The interactive dictionary should be like this\n",
        "Welcome to the dictionary!!!\n",
        "I will help you track the birthday of your friend!!!\n",
        "Following are the names of your friends mentioned in the dictionary\n",
        "Pallavi\n",
        "Simran\n",
        "Vishal\n",
        "Diksha\n",
        "Ankit\n",
        "Whose birthday you want to see?\n",
        "Diksha\n",
        "Birthday of Diksha is on 5/1/1996\n"
      ]
    },
    {
      "cell_type": "code",
      "metadata": {
        "colab": {
          "base_uri": "https://localhost:8080/"
        },
        "id": "2EsS2ZM2sP7j",
        "outputId": "b3c0f32c-c1fa-40c7-a9f4-879a47ce2980"
      },
      "source": [
        "import time\n",
        "birthday_dict ={\n",
        "    \"Pallavi\": \"23/2/2000\",\n",
        "    \"Simran\": \"21/1/1999\",\n",
        "    \"Vishal\": \"17/1/1998\",\n",
        "    \"Diksha\": \"5/1/1996\",\n",
        "    \"Ankit\": \"14/12/2000\"\n",
        "}\n",
        "\n",
        "print(\"Welcome to the dictionary!!!\")\n",
        "time.sleep(1)\n",
        "print(\"I will help you track the birthday of your friend!!!\")\n",
        "time.sleep(1)\n",
        "print(\"Following are the names of your friends mentioned in the dictionary\")\n",
        "for key in birthday_dict:\n",
        "  time.sleep(0.5)\n",
        "  print(key)\n",
        "\n",
        "query=str(input(\"Whose birthday you want to see?\\n\"))\n",
        "res=birthday_dict[query] if query in birthday_dict else None\n",
        "if res==None:\n",
        "  print(\"Data Not Found..!!\")\n",
        "else:\n",
        "  print(\"Birthday of {} is on {}\".format(query, birthday_dict[query]))\n",
        "\n"
      ],
      "execution_count": null,
      "outputs": [
        {
          "output_type": "stream",
          "text": [
            "Welcome to the dictionary!!!\n",
            "I will help you track the birthday of your friend!!!\n",
            "Following are the names of your friends mentioned in the dictionary\n",
            "Pallavi\n",
            "Simran\n",
            "Vishal\n",
            "Diksha\n",
            "Ankit\n",
            "Whose birthday you want to see?\n",
            "Diksha\n",
            "Birthday of Diksha is on 5/1/1996\n"
          ],
          "name": "stdout"
        }
      ]
    },
    {
      "cell_type": "markdown",
      "metadata": {
        "id": "Whi1kE4Rw8J8"
      },
      "source": [
        "5. Create a list consisting of 12 integers and take input from the user. Now create a list to remove all the duplicate elements and display the new list.\n",
        "\n",
        "\n",
        "\n",
        "\n"
      ]
    },
    {
      "cell_type": "code",
      "metadata": {
        "id": "6QPnG_Erv3un"
      },
      "source": [
        "l=[]\n",
        "n=int(input(\"Enter number of elements:\\n\"))\n",
        "print(\"Enter elements:\")\n",
        "for i in range(0,n):\n",
        "  ele=int(input())\n",
        "  l.append(ele)\n",
        "\n",
        "res_list=[]\n",
        "for i in l:\n",
        "  if i not in res_list:\n",
        "    res_list.append(i)\n",
        "\n",
        "print(res_list)\n"
      ],
      "execution_count": null,
      "outputs": []
    },
    {
      "cell_type": "markdown",
      "metadata": {
        "id": "NVac0iE_1hyV"
      },
      "source": [
        "6.\tGiven a two Python lists. Iterate both lists simultaneously such that list1 should display item in original order and list2 in reverse order.\n",
        "Eg. L1= [ a, b, c] ; L2=[1, 2, 3]\n",
        "Output:\n",
        "a 3\n",
        "b 2\n",
        "c 1\n"
      ]
    },
    {
      "cell_type": "code",
      "metadata": {
        "colab": {
          "base_uri": "https://localhost:8080/"
        },
        "id": "V9qVoEkz1mnt",
        "outputId": "a5cdc9c7-330b-4959-d77f-d5dc2498f3e5"
      },
      "source": [
        "l1=[\"a\",\"b\",\"c\"]\n",
        "l2=[1,2,3]\n",
        "\n",
        "for i,j in zip(l1, l2[::-1]):\n",
        "  print(i, j)"
      ],
      "execution_count": 44,
      "outputs": [
        {
          "output_type": "stream",
          "text": [
            "a 3\n",
            "b 2\n",
            "c 1\n"
          ],
          "name": "stdout"
        }
      ]
    },
    {
      "cell_type": "markdown",
      "metadata": {
        "id": "A3Z1PKhI2Wyq"
      },
      "source": [
        "7.\tCreate a tuple of integers. Write a program to count the number of elements in the tuple. Now, check whether the number (length of tuple) is present in the tuple, and if present, list the index.\n",
        "Eg. T1 = ( 1, 4, 7, 9, 6, 7)\n",
        "Length/no. of elements=6 (Return index of 6) index of 6= 4\n"
      ]
    },
    {
      "cell_type": "code",
      "metadata": {
        "colab": {
          "base_uri": "https://localhost:8080/"
        },
        "id": "_HTCues32YLB",
        "outputId": "443f2e4c-e5fb-4f85-8d7a-182fdcf964ba"
      },
      "source": [
        "tup=(1,4,7,9,6,7)\n",
        "\n",
        "cnt=len(tup)\n",
        "print(\"Number of elements in tuple are: {}\".format(cnt))\n",
        "\n",
        "if cnt in tup:\n",
        "  print(\"Index of {} = {}\".format(cnt, tup.index(cnt)))\n",
        "else:\n",
        "  print(\"Not Found..!!\")\n"
      ],
      "execution_count": 50,
      "outputs": [
        {
          "output_type": "stream",
          "text": [
            "Number of elements in tuple are: 6\n",
            "Index of 6 = 4\n"
          ],
          "name": "stdout"
        }
      ]
    }
  ]
}